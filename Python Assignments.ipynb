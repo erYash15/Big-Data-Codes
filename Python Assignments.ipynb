{
 "cells": [
  {
   "cell_type": "markdown",
   "id": "38131009",
   "metadata": {},
   "source": [
    "List_remove_append"
   ]
  },
  {
   "cell_type": "code",
   "execution_count": 1,
   "id": "cdb8f713",
   "metadata": {},
   "outputs": [
    {
     "name": "stdout",
     "output_type": "stream",
     "text": [
      "['SAS', 'R', 'PYTHON', 'Spark']\n"
     ]
    }
   ],
   "source": [
    "input_list = ['SAS', 'R', 'PYTHON', 'SPSS']\n",
    "#Remove SPSS\n",
    "input_list.pop()\n",
    "#add spark\n",
    "input_list.append(\"Spark\")\n",
    "############\n",
    "print(input_list)"
   ]
  },
  {
   "cell_type": "markdown",
   "id": "b61a761a",
   "metadata": {},
   "source": [
    "String to List Conversion"
   ]
  },
  {
   "cell_type": "code",
   "execution_count": 2,
   "id": "7dbbabde",
   "metadata": {},
   "outputs": [
    {
     "name": "stdout",
     "output_type": "stream",
     "text": [
      "['I love Data Science ', ' Python']\n"
     ]
    }
   ],
   "source": [
    "input_str = 'I love Data Science & Python'\n",
    "# split\n",
    "string_list = input_str.split(\"&\")\n",
    "############\n",
    "print(string_list)\n"
   ]
  },
  {
   "cell_type": "markdown",
   "id": "b0b1878d",
   "metadata": {},
   "source": [
    "List to String Conversion"
   ]
  },
  {
   "cell_type": "code",
   "execution_count": 4,
   "id": "f01ac8a9",
   "metadata": {},
   "outputs": [
    {
     "name": "stdout",
     "output_type": "stream",
     "text": [
      "Pythons syntax is easy to learn & Pythons syntax is very clear\n"
     ]
    }
   ],
   "source": [
    "list_string = ['Pythons syntax is easy to learn', 'Pythons syntax is very clear']\n",
    "# joining\n",
    "string = ' & '.join(list_string)\n",
    "#########\n",
    "print(string)"
   ]
  },
  {
   "cell_type": "markdown",
   "id": "0193c3b1",
   "metadata": {},
   "source": [
    "Nested List"
   ]
  },
  {
   "cell_type": "code",
   "execution_count": 6,
   "id": "29f982ad",
   "metadata": {},
   "outputs": [
    {
     "name": "stdout",
     "output_type": "stream",
     "text": [
      "Python\n"
     ]
    }
   ],
   "source": [
    "input_list = [['SAS','R'],['Tableau','SQL'],['Python','Java']]\n",
    "# extract python\n",
    "string = input_list[2][0]\n",
    "############\n",
    "print(string) "
   ]
  },
  {
   "cell_type": "markdown",
   "id": "d0bcc20b",
   "metadata": {},
   "source": [
    "It’s the time to disco"
   ]
  },
  {
   "cell_type": "code",
   "execution_count": 9,
   "id": "d672006f",
   "metadata": {},
   "outputs": [
    {
     "name": "stdout",
     "output_type": "stream",
     "text": [
      "s\n"
     ]
    }
   ],
   "source": [
    "t = (\"disco\", 12, 4.5)\n",
    "#output shold be \"s\"\n",
    "out =  t[0][2]\n",
    "########\n",
    "print(out)"
   ]
  },
  {
   "cell_type": "markdown",
   "id": "d65b9752",
   "metadata": {},
   "source": [
    "String Palindrome"
   ]
  },
  {
   "cell_type": "code",
   "execution_count": 11,
   "id": "cce63d9b",
   "metadata": {},
   "outputs": [
    {
     "name": "stdout",
     "output_type": "stream",
     "text": [
      "madam\n",
      "1\n"
     ]
    }
   ],
   "source": [
    "input_str = str(input())\n",
    "# check\n",
    "if input_str == input_str[::-1]:\n",
    "    print(1)\n",
    "else:\n",
    "    print(0)\n"
   ]
  },
  {
   "cell_type": "markdown",
   "id": "df1b0bf8",
   "metadata": {},
   "source": [
    "Reverse Words"
   ]
  },
  {
   "cell_type": "code",
   "execution_count": 12,
   "id": "c06ccf68",
   "metadata": {},
   "outputs": [
    {
     "name": "stdout",
     "output_type": "stream",
     "text": [
      "hello sir, i am yash gupta\n",
      "gupta yash am i sir, hello\n"
     ]
    }
   ],
   "source": [
    "input_string = str(input())\n",
    "# logic\n",
    "str_list = input_string.split()\n",
    "reverse_list = str_list[::-1]\n",
    "out_str = ' '.join(reverse_list)\n",
    "#######\n",
    "print(out_str)"
   ]
  },
  {
   "cell_type": "markdown",
   "id": "5fcc1439",
   "metadata": {},
   "source": [
    "String Formatting"
   ]
  },
  {
   "cell_type": "code",
   "execution_count": 1,
   "id": "8d89d136",
   "metadata": {},
   "outputs": [
    {
     "name": "stdout",
     "output_type": "stream",
     "text": [
      "caloRine counSumed\n",
      "calorine_counsumed\n",
      "data science\n",
      "data_science\n",
      "datascience\n",
      "datascience\n"
     ]
    }
   ],
   "source": [
    "for _ in range(3):\n",
    "    int_input = str(input()).lower()\n",
    "    # split\n",
    "    list_input = int_input.split()\n",
    "    #######\n",
    "    print(\"_\".join(list_input))"
   ]
  },
  {
   "cell_type": "markdown",
   "id": "8414e51e",
   "metadata": {},
   "source": [
    "Multiple Choice Questions"
   ]
  },
  {
   "cell_type": "markdown",
   "id": "2e65c918",
   "metadata": {},
   "source": [
    "1. b. S[2:6] , d. S[-11:-7]"
   ]
  },
  {
   "cell_type": "markdown",
   "id": "eb7f8e07",
   "metadata": {},
   "source": [
    "2. c. 81"
   ]
  },
  {
   "cell_type": "markdown",
   "id": "a6453469",
   "metadata": {},
   "source": [
    "3. a. 1"
   ]
  },
  {
   "cell_type": "markdown",
   "id": "ebd4942e",
   "metadata": {},
   "source": [
    "4. d. Error"
   ]
  },
  {
   "cell_type": "markdown",
   "id": "96b909d4",
   "metadata": {},
   "source": [
    "5. ------------------ Cannot find program------------------"
   ]
  },
  {
   "cell_type": "markdown",
   "id": "6251ab50",
   "metadata": {},
   "source": [
    "6. b. 6"
   ]
  },
  {
   "cell_type": "markdown",
   "id": "41a6dca5",
   "metadata": {},
   "source": [
    "7. c. Sets are immutable"
   ]
  },
  {
   "cell_type": "markdown",
   "id": "0bf9c8ef",
   "metadata": {},
   "source": [
    "8.  a.  1 2 3"
   ]
  },
  {
   "cell_type": "markdown",
   "id": "a1207140",
   "metadata": {},
   "source": [
    "9. d. [word for word in sentence.split() for sentence in paragraph]"
   ]
  },
  {
   "cell_type": "markdown",
   "id": "9d3472cc",
   "metadata": {},
   "source": [
    "10. d. [10, 9, 8, 7, 6, 5, 4, 3, 2]"
   ]
  }
 ],
 "metadata": {
  "kernelspec": {
   "display_name": "Python 3 (ipykernel)",
   "language": "python",
   "name": "python3"
  },
  "language_info": {
   "codemirror_mode": {
    "name": "ipython",
    "version": 3
   },
   "file_extension": ".py",
   "mimetype": "text/x-python",
   "name": "python",
   "nbconvert_exporter": "python",
   "pygments_lexer": "ipython3",
   "version": "3.7.9"
  }
 },
 "nbformat": 4,
 "nbformat_minor": 5
}
